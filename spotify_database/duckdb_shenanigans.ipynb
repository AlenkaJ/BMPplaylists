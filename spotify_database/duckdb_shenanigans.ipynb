{
 "cells": [
  {
   "cell_type": "code",
   "execution_count": 2,
   "metadata": {},
   "outputs": [],
   "source": [
    "import duckdb\n",
    "con = duckdb.connect(\"database.db\", read_only=True)"
   ]
  },
  {
   "cell_type": "code",
   "execution_count": null,
   "metadata": {},
   "outputs": [],
   "source": [
    "# show artists database\n",
    "con.sql(\"SELECT * FROM artists\").df()"
   ]
  },
  {
   "cell_type": "code",
   "execution_count": null,
   "metadata": {},
   "outputs": [],
   "source": [
    "# show albums database\n",
    "con.sql(\"SELECT * FROM albums\").df()"
   ]
  },
  {
   "cell_type": "code",
   "execution_count": null,
   "metadata": {},
   "outputs": [],
   "source": [
    "# show 10 most frequent genres\n",
    "con.sql(\"\"\"\n",
    "        SELECT genre, COUNT(name) AS count, LIST(name) AS artists \n",
    "        FROM artists INNER JOIN artist_genre ON artists.spotify_id=artist_genre.artist_id \n",
    "        GROUP BY genre ORDER BY count DESC LIMIT 10\n",
    "    \"\"\").df()"
   ]
  },
  {
   "cell_type": "code",
   "execution_count": null,
   "metadata": {},
   "outputs": [],
   "source": [
    "# link artists and albums together\n",
    "con.sql(\"\"\"\n",
    "        SELECT DISTINCT artists.name AS artist_name, albums.name AS album_name  \n",
    "        FROM albums \n",
    "        LEFT JOIN album_artist ON albums.spotify_id=album_artist.album_id\n",
    "        JOIN artists ON album_artist.artist_id=artists.spotify_id\n",
    "        ORDER BY artist_name ASC\n",
    "        \"\"\").df()"
   ]
  }
 ],
 "metadata": {
  "kernelspec": {
   "display_name": ".venv",
   "language": "python",
   "name": "python3"
  },
  "language_info": {
   "codemirror_mode": {
    "name": "ipython",
    "version": 3
   },
   "file_extension": ".py",
   "mimetype": "text/x-python",
   "name": "python",
   "nbconvert_exporter": "python",
   "pygments_lexer": "ipython3",
   "version": "3.13.0"
  }
 },
 "nbformat": 4,
 "nbformat_minor": 2
}
