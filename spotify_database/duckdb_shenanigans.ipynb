{
 "cells": [
  {
   "cell_type": "code",
   "execution_count": 2,
   "metadata": {},
   "outputs": [],
   "source": [
    "import duckdb\n",
    "con = duckdb.connect(\"database.db\", read_only=True)"
   ]
  },
  {
   "cell_type": "code",
   "execution_count": null,
   "metadata": {},
   "outputs": [],
   "source": [
    "# show artists database\n",
    "con.sql(\"SELECT * FROM artists\").df()"
   ]
  },
  {
   "cell_type": "code",
   "execution_count": null,
   "metadata": {},
   "outputs": [],
   "source": [
    "# show albums database\n",
    "con.sql(\"SELECT * FROM albums\").df()"
   ]
  },
  {
   "cell_type": "code",
   "execution_count": null,
   "metadata": {},
   "outputs": [],
   "source": [
    "# show 10 most frequent genres\n",
    "con.sql(\"\"\"\n",
    "        SELECT genre, COUNT(name) AS count, LIST(name) AS artists \n",
    "        FROM artists INNER JOIN artist_genre ON artists.spotify_id=artist_genre.artist_id \n",
    "        GROUP BY genre ORDER BY count DESC LIMIT 10\n",
    "    \"\"\").df()"
   ]
  },
  {
   "cell_type": "code",
   "execution_count": null,
   "metadata": {},
   "outputs": [],
   "source": [
    "# find all albums by the given artist\n",
    "given_artist = \"Sufjan Stevens\"\n",
    "con.execute(\"\"\"\n",
    "        SELECT DISTINCT artists.name AS artist_name, albums.name AS album_name  \n",
    "        FROM albums \n",
    "        LEFT JOIN album_artist ON albums.spotify_id=album_artist.album_id\n",
    "        JOIN artists ON album_artist.artist_id=artists.spotify_id\n",
    "        WHERE artist_name = ?\n",
    "        \"\"\", (given_artist,)).df()"
   ]
  },
  {
   "cell_type": "code",
   "execution_count": null,
   "metadata": {},
   "outputs": [],
   "source": [
    "# find artist based on an album and then other albums by that artist\n",
    "analyzed_album = \"softscars\"\n",
    "artist_id = con.execute(\"\"\"        \n",
    "        SELECT DISTINCT artists.spotify_id AS artist_id, artists.name AS artist_name, albums.name AS album_name  \n",
    "        FROM albums \n",
    "        LEFT JOIN album_artist ON albums.spotify_id=album_artist.album_id\n",
    "        JOIN artists ON album_artist.artist_id=artists.spotify_id\n",
    "        WHERE album_name=?;\n",
    "        \"\"\",(analyzed_album,)).df()[\"artist_id\"][0]\n",
    "con.execute(\"\"\"\n",
    "        SELECT DISTINCT artists.name AS artist_name, albums.name AS album_name  \n",
    "        FROM albums \n",
    "        LEFT JOIN album_artist ON albums.spotify_id=album_artist.album_id\n",
    "        JOIN artists ON album_artist.artist_id=artists.spotify_id\n",
    "        WHERE artists.spotify_id=? AND albums.name!=?;\n",
    "        \"\"\",(artist_id, analyzed_album,)).df()"
   ]
  },
  {
   "cell_type": "code",
   "execution_count": null,
   "metadata": {},
   "outputs": [],
   "source": [
    "# based on artist, find other artists based on the genre and their albums\n",
    "analyzed_artist = \"AURORA\"\n",
    "genres_list = con.execute(\"\"\"\n",
    "        SELECT genre FROM artists \n",
    "        JOIN artist_genre ON artists.spotify_id = artist_genre.artist_id\n",
    "        WHERE artists.name = ?\n",
    "        \"\"\", (analyzed_artist,)).df()[\"genre\"].to_list()\n",
    "placeholders = \", \".join(\"?\" for _ in genres_list) # create the appropriate number of ? -> ?, ?, ?, ?, ...\n",
    "unknowns = genres_list + [analyzed_artist]\n",
    "con.execute(f\"\"\"\n",
    "        SELECT artists.name, LIST(genre) AS genres, COUNT(genre) AS same_genre_count        \n",
    "        FROM artists \n",
    "        JOIN artist_genre ON artists.spotify_id = artist_genre.artist_id\n",
    "        WHERE genre IN ({placeholders}) AND artists.name != ?\n",
    "        GROUP BY artists.name\n",
    "        ORDER BY same_genre_count DESC\n",
    "        \"\"\", unknowns).df()"
   ]
  }
 ],
 "metadata": {
  "kernelspec": {
   "display_name": ".venv",
   "language": "python",
   "name": "python3"
  },
  "language_info": {
   "codemirror_mode": {
    "name": "ipython",
    "version": 3
   },
   "file_extension": ".py",
   "mimetype": "text/x-python",
   "name": "python",
   "nbconvert_exporter": "python",
   "pygments_lexer": "ipython3",
   "version": "3.13.0"
  }
 },
 "nbformat": 4,
 "nbformat_minor": 2
}
